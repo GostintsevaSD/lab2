{
  "nbformat": 4,
  "nbformat_minor": 0,
  "metadata": {
    "colab": {
      "provenance": [],
      "authorship_tag": "ABX9TyNH3p3MrOQPmB2o4J1NNE1l",
      "include_colab_link": true
    },
    "kernelspec": {
      "name": "python3",
      "display_name": "Python 3"
    },
    "language_info": {
      "name": "python"
    }
  },
  "cells": [
    {
      "cell_type": "markdown",
      "metadata": {
        "id": "view-in-github",
        "colab_type": "text"
      },
      "source": [
        "<a href=\"https://colab.research.google.com/github/GostintsevaSD/lab2/blob/main/17.ipynb\" target=\"_parent\"><img src=\"https://colab.research.google.com/assets/colab-badge.svg\" alt=\"Open In Colab\"/></a>"
      ]
    },
    {
      "cell_type": "code",
      "execution_count": null,
      "metadata": {
        "id": "Ne81hCN547j3"
      },
      "outputs": [],
      "source": [
        "# Задание task_02_17.\n",
        "#\n",
        "# Выполнил: Гостинцева С.Д.\n",
        "# Группа: ЦИБ-241\n",
        "\n",
        "nums_sum = 0\n",
        "nums_count = 0\n",
        "while True:\n",
        "  x = int(input())\n",
        "  if x == 0:\n",
        "    break\n",
        "  nums_sum += x\n",
        "  nums_count += 1\n",
        "print(nums_sum)\n",
        "print(nums_count)"
      ]
    }
  ]
}