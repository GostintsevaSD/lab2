{
  "nbformat": 4,
  "nbformat_minor": 0,
  "metadata": {
    "colab": {
      "provenance": [],
      "authorship_tag": "ABX9TyMrzMCsmo41xmlimUPB0wn1"
    },
    "kernelspec": {
      "name": "python3",
      "display_name": "Python 3"
    },
    "language_info": {
      "name": "python"
    }
  },
  "cells": [
    {
      "cell_type": "code",
      "execution_count": null,
      "metadata": {
        "id": "Ne81hCN547j3"
      },
      "outputs": [],
      "source": [
        "# Задание task_02_24.\n",
        "#\n",
        "# Выполнил: Гостинцева С.Д.\n",
        "# Группа: ЦИБ-241\n",
        "\n",
        "n = int(input(\"n = \"))\n",
        "\n",
        "index = -1\n",
        "\n",
        "prev = float(input(\"1-е число = \"))\n",
        "for i in range(2, n + 1):\n",
        "    current = float(input(f\"{i}-е число = \"))\n",
        "    if current <= prev:\n",
        "        index = i\n",
        "        break\n",
        "    prev = current\n",
        "\n",
        "if index == -1:\n",
        "    print(\"Является\")\n",
        "else:\n",
        "    print(index)"
      ]
    }
  ]
}