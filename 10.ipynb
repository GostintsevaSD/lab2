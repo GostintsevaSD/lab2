{
  "nbformat": 4,
  "nbformat_minor": 0,
  "metadata": {
    "colab": {
      "provenance": [],
      "authorship_tag": "ABX9TyMHQ20uemUm9KbYOz680Uu7"
    },
    "kernelspec": {
      "name": "python3",
      "display_name": "Python 3"
    },
    "language_info": {
      "name": "python"
    }
  },
  "cells": [
    {
      "cell_type": "code",
      "execution_count": 20,
      "metadata": {
        "colab": {
          "base_uri": "https://localhost:8080/"
        },
        "id": "Ne81hCN547j3",
        "outputId": "3419c1ed-53d8-4cb8-8498-b5c86d5f551f"
      },
      "outputs": [
        {
          "output_type": "stream",
          "name": "stdout",
          "text": [
            "12345\n",
            "n = 12345\n",
            "Сумма = 15\n",
            "Количество = 5\n"
          ]
        }
      ],
      "source": [
        "# Задание task_02_10.\n",
        "#\n",
        "# Выполнил: Гостинцева С.Д.\n",
        "# Группа: ЦИБ-241\n",
        "\n",
        "n = int(input())\n",
        "n1 = n\n",
        "summa = 0\n",
        "kolvo = 0\n",
        "\n",
        "if n == 0:\n",
        "    kolvo = 1\n",
        "else:\n",
        "    while n > 0:\n",
        "        x = n % 10\n",
        "        summa += x\n",
        "        kolvo += 1\n",
        "        n = n // 10\n",
        "\n",
        "\n",
        "print(f\"n = {n1}\")\n",
        "print(f\"Сумма = {summa}\")\n",
        "print(f\"Количество = {kolvo}\")\n"
      ]
    }
  ]
}