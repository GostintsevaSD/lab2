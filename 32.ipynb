{
  "nbformat": 4,
  "nbformat_minor": 0,
  "metadata": {
    "colab": {
      "provenance": [],
      "authorship_tag": "ABX9TyPzyse4YGcqnoa5zfwtdy72"
    },
    "kernelspec": {
      "name": "python3",
      "display_name": "Python 3"
    },
    "language_info": {
      "name": "python"
    }
  },
  "cells": [
    {
      "cell_type": "code",
      "execution_count": 34,
      "metadata": {
        "colab": {
          "base_uri": "https://localhost:8080/"
        },
        "id": "Ne81hCN547j3",
        "outputId": "8c671ba3-a4fa-45da-9906-117b2dccc031"
      },
      "outputs": [
        {
          "output_type": "stream",
          "name": "stdout",
          "text": [
            "Количество рядов = 3\n",
            "0 1 0\n",
            "1 1 1 0 0\n",
            "0 1 1 0 1 0 0 1\n",
            "Всего свободных мест: 8\n",
            "Введите ряд и место через пробел: 1 3\n",
            "Место свободно: True\n"
          ]
        }
      ],
      "source": [
        "# Задание task_02_32.\n",
        "#\n",
        "# Выполнил: Гостинцева С.Д.\n",
        "# Группа: ЦИБ-241\n",
        "\n",
        "n = int(input(\"Количество рядов = \"))\n",
        "\n",
        "seats = []\n",
        "for i in range(n):\n",
        "    row = [int(item) for item in input().split()]\n",
        "    seats.append(row)\n",
        "\n",
        "count = sum(row.count(0) for row in seats)\n",
        "print(f\"Всего свободных мест: {count}\")\n",
        "\n",
        "n_p, m_p = [int(item) for item in input(\"Введите ряд и место через пробел: \").split()]\n",
        "n_p -= 1\n",
        "m_p -= 1\n",
        "\n",
        "if (n_p < 0 or n_p >= len(seats)) or (m_p < 0 or m_p >= len(seats[n_p])):\n",
        "    print(\"Такого места не существует\")\n",
        "else:\n",
        "    is_free = seats[n_p][m_p] == 0\n",
        "    print(f\"Место свободно: {is_free}\")"
      ]
    }
  ]
}