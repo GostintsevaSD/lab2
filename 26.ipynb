{
  "nbformat": 4,
  "nbformat_minor": 0,
  "metadata": {
    "colab": {
      "provenance": [],
      "authorship_tag": "ABX9TyNIoPgnLuJswlRA3lANFBcJ"
    },
    "kernelspec": {
      "name": "python3",
      "display_name": "Python 3"
    },
    "language_info": {
      "name": "python"
    }
  },
  "cells": [
    {
      "cell_type": "code",
      "execution_count": null,
      "metadata": {
        "id": "Ne81hCN547j3"
      },
      "outputs": [],
      "source": [
        "# Задание task_02_26.\n",
        "#\n",
        "# Выполнил: Гостинцева С.Д.\n",
        "# Группа: ЦИБ-241\n",
        "\n",
        "n = int(input(\"n = \"))\n",
        "\n",
        "for num in range(1, n + 1):\n",
        "    count = 0\n",
        "    for i in range(1, num + 1):\n",
        "        if num % i == 0:\n",
        "            count += 1\n",
        "    print(f\"{num} {'*' * count}\")"
      ]
    }
  ]
}