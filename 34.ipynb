{
  "nbformat": 4,
  "nbformat_minor": 0,
  "metadata": {
    "colab": {
      "provenance": [],
      "authorship_tag": "ABX9TyPkzJaoLydAHphykqkdWCTp"
    },
    "kernelspec": {
      "name": "python3",
      "display_name": "Python 3"
    },
    "language_info": {
      "name": "python"
    }
  },
  "cells": [
    {
      "cell_type": "code",
      "execution_count": 40,
      "metadata": {
        "colab": {
          "base_uri": "https://localhost:8080/"
        },
        "id": "Ne81hCN547j3",
        "outputId": "0e31705d-04ca-4afd-c4e8-e3015fd257c1"
      },
      "outputs": [
        {
          "output_type": "stream",
          "name": "stdout",
          "text": [
            "Количество банков = 3\n",
            "альфа 100 20\n",
            "тинькофф 200 21\n",
            "втб 50 19\n",
            "Самый доступный банк: втб, первоначальная сумма: 50.00 руб.\n",
            "Самый выгодный банк: тинькофф, прибыль: 42.00 руб.\n"
          ]
        }
      ],
      "source": [
        "# Задание task_02_34.\n",
        "#\n",
        "# Выполнил: Гостинцева С.Д.\n",
        "# Группа: ЦИБ-241\n",
        "\n",
        "# 1. Заполнение списка\n",
        "n = int(input(\"Количество банков = \"))\n",
        "\n",
        "deposits = []\n",
        "for _ in range(n):\n",
        "    bank_info = input().split()\n",
        "    deposits.append({\n",
        "        \"name\": bank_info[0],\n",
        "        \"initial_sum\": int(bank_info[1]),\n",
        "        \"rate\": float(bank_info[2])})\n",
        "\n",
        "# 2. Самый доступный банк\n",
        "min_bank = min(deposits, key=lambda x: x[\"initial_sum\"])\n",
        "\n",
        "# 3. Самый выгодный банк\n",
        "max_profit_bank = max(deposits, key=lambda x: x[\"initial_sum\"] * x[\"rate\"] / 100)\n",
        "max_profit = max_profit_bank[\"initial_sum\"] * max_profit_bank[\"rate\"] / 100\n",
        "\n",
        "print(f\"Самый доступный банк: {min_bank['name']}, первоначальная сумма: {min_bank['initial_sum']:.2f} руб.\")\n",
        "print(f\"Самый выгодный банк: {max_profit_bank['name']}, прибыль: {max_profit:.2f} руб.\")"
      ]
    }
  ]
}