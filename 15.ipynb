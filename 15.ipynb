{
  "nbformat": 4,
  "nbformat_minor": 0,
  "metadata": {
    "colab": {
      "provenance": [],
      "authorship_tag": "ABX9TyPSkdzRhkf2J7+3/OYMTQ42",
      "include_colab_link": true
    },
    "kernelspec": {
      "name": "python3",
      "display_name": "Python 3"
    },
    "language_info": {
      "name": "python"
    }
  },
  "cells": [
    {
      "cell_type": "markdown",
      "metadata": {
        "id": "view-in-github",
        "colab_type": "text"
      },
      "source": [
        "<a href=\"https://colab.research.google.com/github/GostintsevaSD/lab2/blob/main/15.ipynb\" target=\"_parent\"><img src=\"https://colab.research.google.com/assets/colab-badge.svg\" alt=\"Open In Colab\"/></a>"
      ]
    },
    {
      "cell_type": "code",
      "execution_count": null,
      "metadata": {
        "id": "Ne81hCN547j3"
      },
      "outputs": [],
      "source": [
        "# Задание task_02_15.\n",
        "#\n",
        "# Выполнил: Гостинцева С.Д.\n",
        "# Группа: ЦИБ-241\n",
        "\n",
        "p = int(input())\n",
        "n = int (input())\n",
        "total = 0\n",
        "while n!=0:\n",
        "    k=int(input())\n",
        "    n-=1\n",
        "    total=total+k\n",
        "if total<=p:\n",
        "  print(\"Да\")\n",
        "else:\n",
        "  print(\"Нет\")"
      ]
    }
  ]
}