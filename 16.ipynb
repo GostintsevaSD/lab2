{
  "nbformat": 4,
  "nbformat_minor": 0,
  "metadata": {
    "colab": {
      "provenance": [],
      "authorship_tag": "ABX9TyNwFl9khhOyvchNWAdzGbi5"
    },
    "kernelspec": {
      "name": "python3",
      "display_name": "Python 3"
    },
    "language_info": {
      "name": "python"
    }
  },
  "cells": [
    {
      "cell_type": "code",
      "execution_count": 23,
      "metadata": {
        "colab": {
          "base_uri": "https://localhost:8080/"
        },
        "id": "Ne81hCN547j3",
        "outputId": "c07637fe-601c-44ec-8be8-434843654c4c"
      },
      "outputs": [
        {
          "output_type": "stream",
          "name": "stdout",
          "text": [
            "Количество районов = 3\n",
            "Площадь 1-го района (га) = 15\n",
            "Урожайность в 1-м районе (ц/га.) = 3\n",
            "Площадь 2-го района (га) = 52\n",
            "Урожайность в 2-м районе (ц/га.) = 4\n",
            "Площадь 3-го района (га) = 12\n",
            "Урожайность в 3-м районе (ц/га.) = 3\n",
            "Собрано пшеницы: 289.0 ц.\n"
          ]
        }
      ],
      "source": [
        "# Задание task_02_16.\n",
        "#\n",
        "# Выполнил: Гостинцева С.Д.\n",
        "# Группа: ЦИБ-241\n",
        "\n",
        "n = int(input(\"Количество районов = \"))\n",
        "\n",
        "total = 0.0\n",
        "\n",
        "for i in range(n):\n",
        "    area = float(input(f\"Площадь {i+1}-го района (га) = \"))\n",
        "    uroj = float(input(f\"Урожайность в {i+1}-м районе (ц/га.) = \"))\n",
        "    total += area * uroj\n",
        "\n",
        "print(f\"Собрано пшеницы: {total:.1f} ц.\")"
      ]
    }
  ]
}