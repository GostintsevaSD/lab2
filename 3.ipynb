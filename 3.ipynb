{
  "nbformat": 4,
  "nbformat_minor": 0,
  "metadata": {
    "colab": {
      "provenance": [],
      "authorship_tag": "ABX9TyPsOuOfSFitS1eqqdg62Jqr"
    },
    "kernelspec": {
      "name": "python3",
      "display_name": "Python 3"
    },
    "language_info": {
      "name": "python"
    }
  },
  "cells": [
    {
      "cell_type": "code",
      "execution_count": 42,
      "metadata": {
        "colab": {
          "base_uri": "https://localhost:8080/"
        },
        "id": "Ne81hCN547j3",
        "outputId": "0343003b-0008-4afb-ce47-0ef1c9d5c7db"
      },
      "outputs": [
        {
          "output_type": "stream",
          "name": "stdout",
          "text": [
            "3\n",
            "5\n",
            "6\n",
            "Нет\n"
          ]
        }
      ],
      "source": [
        "# Задание task_02_03.\n",
        "#\n",
        "# Выполнил: Гостинцева С.Д.\n",
        "# Группа: ЦИБ-241\n",
        "\n",
        "a = int(input())\n",
        "b = int(input())\n",
        "d = int(input())\n",
        "\n",
        "if a > 0 and b > 0 and d > 0:\n",
        "    fix = 1\n",
        "    if a >= d + fix and b >= d + fix:\n",
        "      print(\"Да\")\n",
        "    else:\n",
        "      print(\"Нет\")\n",
        "else:\n",
        "    print(\"Проверьте ввод\")"
      ]
    }
  ]
}