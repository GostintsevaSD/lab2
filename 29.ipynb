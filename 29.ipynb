{
  "nbformat": 4,
  "nbformat_minor": 0,
  "metadata": {
    "colab": {
      "provenance": [],
      "authorship_tag": "ABX9TyO9pseLpcrtnIVacW4XBtAp",
      "include_colab_link": true
    },
    "kernelspec": {
      "name": "python3",
      "display_name": "Python 3"
    },
    "language_info": {
      "name": "python"
    }
  },
  "cells": [
    {
      "cell_type": "markdown",
      "metadata": {
        "id": "view-in-github",
        "colab_type": "text"
      },
      "source": [
        "<a href=\"https://colab.research.google.com/github/GostintsevaSD/lab2/blob/main/29.ipynb\" target=\"_parent\"><img src=\"https://colab.research.google.com/assets/colab-badge.svg\" alt=\"Open In Colab\"/></a>"
      ]
    },
    {
      "cell_type": "code",
      "execution_count": null,
      "metadata": {
        "id": "Ne81hCN547j3"
      },
      "outputs": [],
      "source": [
        "# Задание task_02_29.\n",
        "#\n",
        "# Выполнил: Гостинцева С.Д.\n",
        "# Группа: ЦИБ-241\n",
        "\n",
        "n = int(input(\"n = \"))\n",
        "\n",
        "nums = []\n",
        "while n != 0:\n",
        "   a = float(input())\n",
        "   nums.append(a)\n",
        "   n -= 1\n",
        "\n",
        "nums_pos = [a for a in nums if a > 0]\n",
        "nums_neg = []\n",
        "for a in nums:\n",
        "  if a < 0:\n",
        "    nums_neg.append(a)\n",
        "\n",
        "p=1\n",
        "sr_ar = (sum(nums_pos)/len(nums_pos))\n",
        "for a in nums_neg:\n",
        "  p*=a\n",
        "sr_geom = p**(1/len(nums_neg))\n",
        "\n",
        "print(nums)\n",
        "print(nums_pos)\n",
        "print(nums_neg)\n",
        "print(round(sr_ar,2))\n",
        "print(round(sr_geom,2))"
      ]
    }
  ]
}