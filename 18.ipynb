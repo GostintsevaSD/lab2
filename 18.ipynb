{
  "nbformat": 4,
  "nbformat_minor": 0,
  "metadata": {
    "colab": {
      "provenance": [],
      "authorship_tag": "ABX9TyOQgXYq5WWSAdiqGyVF54Li"
    },
    "kernelspec": {
      "name": "python3",
      "display_name": "Python 3"
    },
    "language_info": {
      "name": "python"
    }
  },
  "cells": [
    {
      "cell_type": "code",
      "execution_count": 32,
      "metadata": {
        "colab": {
          "base_uri": "https://localhost:8080/"
        },
        "id": "Ne81hCN547j3",
        "outputId": "b255c112-3785-4c52-9ef4-e6f7ed44fc7b"
      },
      "outputs": [
        {
          "output_type": "stream",
          "name": "stdout",
          "text": [
            "Введите предложение: Мама сшила мне штаны\n",
            "Кол-во букв в предложении: гласных - 7, согласных - 10\n"
          ]
        }
      ],
      "source": [
        "# Задание task_02_18.\n",
        "#\n",
        "# Выполнил: Гостинцева С.Д.\n",
        "# Группа: ЦИБ-241\n",
        "\n",
        "sentence = input(\"Введите предложение: \").lower()\n",
        "\n",
        "count_gl = 0\n",
        "count_sogl = 0\n",
        "\n",
        "gl_letters = {'а', 'е', 'ё', 'и', 'о', 'у', 'ы', 'э', 'ю', 'я'}\n",
        "\n",
        "for char in sentence:\n",
        "    if char == ' ':\n",
        "        continue\n",
        "    if char in gl_letters:\n",
        "        count_gl += 1\n",
        "    else:\n",
        "        count_sogl += 1\n",
        "\n",
        "print(f\"Кол-во букв в предложении: гласных - {count_gl}, согласных - {count_sogl}\")"
      ]
    }
  ]
}