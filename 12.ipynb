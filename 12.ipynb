{
  "nbformat": 4,
  "nbformat_minor": 0,
  "metadata": {
    "colab": {
      "provenance": [],
      "authorship_tag": "ABX9TyOzAgnXp6xo8R2fgJYUUFMy"
    },
    "kernelspec": {
      "name": "python3",
      "display_name": "Python 3"
    },
    "language_info": {
      "name": "python"
    }
  },
  "cells": [
    {
      "cell_type": "code",
      "execution_count": 21,
      "metadata": {
        "colab": {
          "base_uri": "https://localhost:8080/"
        },
        "id": "Ne81hCN547j3",
        "outputId": "b6e3c437-2a3f-4fde-d549-43f49d5b0ef3"
      },
      "outputs": [
        {
          "output_type": "stream",
          "name": "stdout",
          "text": [
            "5\n",
            "9\n",
            "a = 5\n",
            "b = 9\n",
            "5 6 7 8 9\n",
            "9\n",
            "8\n",
            "7\n",
            "6\n",
            "5\n"
          ]
        }
      ],
      "source": [
        "# Задание task_02_12.\n",
        "#\n",
        "# Выполнил: Гостинцева С.Д.\n",
        "# Группа: ЦИБ-241\n",
        "\n",
        "a = int(input())\n",
        "b = int(input())\n",
        "\n",
        "print(f\"a = {a}\")\n",
        "print(f\"b = {b}\")\n",
        "\n",
        "start = min(a, b)\n",
        "end = max(a, b)\n",
        "\n",
        "numbers = []\n",
        "current = start\n",
        "while current <= end:\n",
        "    numbers.append(str(current))\n",
        "    current += 1\n",
        "print(\" \".join(numbers))\n",
        "\n",
        "current = end\n",
        "while current >= start:\n",
        "    print(current)\n",
        "    current -= 1"
      ]
    }
  ]
}