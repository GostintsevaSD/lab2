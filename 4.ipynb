{
  "nbformat": 4,
  "nbformat_minor": 0,
  "metadata": {
    "colab": {
      "provenance": [],
      "authorship_tag": "ABX9TyPTjkPaAY53sUeO9KGZ1lS/"
    },
    "kernelspec": {
      "name": "python3",
      "display_name": "Python 3"
    },
    "language_info": {
      "name": "python"
    }
  },
  "cells": [
    {
      "cell_type": "code",
      "execution_count": 8,
      "metadata": {
        "colab": {
          "base_uri": "https://localhost:8080/"
        },
        "id": "Ne81hCN547j3",
        "outputId": "95ac0e8d-d430-487f-9005-2a9abcd00129"
      },
      "outputs": [
        {
          "output_type": "stream",
          "name": "stdout",
          "text": [
            "Введите текущий год:\n",
            "2025\n",
            "Введите текущий месяц:\n",
            "3\n",
            "Введите год рождения:\n",
            "2006\n",
            "Введите месяц рождения:\n",
            "2\n",
            "Число полных лет:  19\n"
          ]
        }
      ],
      "source": [
        "\n",
        "# Задание task_02_04.\n",
        "#\n",
        "# Выполнил: Гостинцева С.Д.\n",
        "# Группа: ЦИБ-241\n",
        "\n",
        "\n",
        "print(\"Введите текущий год:\")\n",
        "year_today = int(input())\n",
        "print(\"Введите текущий месяц:\")\n",
        "month_today = int(input())\n",
        "\n",
        "print(\"Введите год рождения:\")\n",
        "year = int(input())\n",
        "print(\"Введите месяц рождения:\")\n",
        "month = int(input())\n",
        "\n",
        "age = year_today - year\n",
        "\n",
        "print(\"Число полных лет: \", age)\n",
        "\n"
      ]
    },
    {
      "cell_type": "code",
      "source": [],
      "metadata": {
        "id": "UhP8wiNxJt6S"
      },
      "execution_count": null,
      "outputs": []
    }
  ]
}