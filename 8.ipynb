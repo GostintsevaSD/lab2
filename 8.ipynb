{
  "nbformat": 4,
  "nbformat_minor": 0,
  "metadata": {
    "colab": {
      "provenance": [],
      "authorship_tag": "ABX9TyN0Ndkib4Odr3GA0n+0PVRG"
    },
    "kernelspec": {
      "name": "python3",
      "display_name": "Python 3"
    },
    "language_info": {
      "name": "python"
    }
  },
  "cells": [
    {
      "cell_type": "code",
      "execution_count": 16,
      "metadata": {
        "colab": {
          "base_uri": "https://localhost:8080/"
        },
        "id": "Ne81hCN547j3",
        "outputId": "caf2bd1e-1899-4c17-f317-a8ee39af1d70"
      },
      "outputs": [
        {
          "output_type": "stream",
          "name": "stdout",
          "text": [
            "35\n",
            "n = 35\n",
            "0\n",
            "5\n",
            "10\n",
            "15\n",
            "20\n",
            "25\n",
            "30\n",
            "35\n"
          ]
        }
      ],
      "source": [
        "# Задание task_02_08.\n",
        "#\n",
        "# Выполнил: Гостинцева С.Д.\n",
        "# Группа: ЦИБ-241\n",
        "\n",
        "n = int(input())\n",
        "\n",
        "print(f\"n = {n}\")\n",
        "\n",
        "x = 0\n",
        "while x <= n:\n",
        "    print(x)\n",
        "    x += 5\n"
      ]
    }
  ]
}