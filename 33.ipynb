{
  "nbformat": 4,
  "nbformat_minor": 0,
  "metadata": {
    "colab": {
      "provenance": [],
      "authorship_tag": "ABX9TyO057VldERxzYXfrXw3tusT",
      "include_colab_link": true
    },
    "kernelspec": {
      "name": "python3",
      "display_name": "Python 3"
    },
    "language_info": {
      "name": "python"
    }
  },
  "cells": [
    {
      "cell_type": "markdown",
      "metadata": {
        "id": "view-in-github",
        "colab_type": "text"
      },
      "source": [
        "<a href=\"https://colab.research.google.com/github/GostintsevaSD/lab2/blob/main/33.ipynb\" target=\"_parent\"><img src=\"https://colab.research.google.com/assets/colab-badge.svg\" alt=\"Open In Colab\"/></a>"
      ]
    },
    {
      "cell_type": "code",
      "execution_count": null,
      "metadata": {
        "id": "Ne81hCN547j3"
      },
      "outputs": [],
      "source": [
        "# Задание task_02_33.\n",
        "#\n",
        "# Выполнил: Гостинцева С.Д.\n",
        "# Группа: ЦИБ-241\n",
        "\n",
        "n = int(input())\n",
        "employees = []\n",
        "while n != 0:\n",
        "  e = input().split( )\n",
        "  n-=1\n",
        "  e[4] = int(e[4])\n",
        "  employees.append(e)\n",
        "\n",
        "sort = sorted(employees, key = lambda x: x[4])\n",
        "employee_min = sort[0]\n",
        "employee_max = sort[-1]\n",
        "print(\"Cамый \\\"молодой\\\": {}\".format(\" \".join(employee_min[:3])))\n",
        "print(\"Cамый \\\"старый\\\": {}\".format(\" \".join(employee_max[:3])))\n",
        "\n",
        "men = [emp for emp in employees if emp[3] == \"М\"]\n",
        "women = [emp for emp in employees if emp[3] == \"Ж\"]\n",
        "\n",
        "k = str(input())\n",
        "\n",
        "men_k_count = sum(1 for emp in men if emp[1].lower().startswith(k))\n",
        "women_k_count = sum(1 for emp in women if emp[1].lower().startswith(k))\n",
        "\n",
        "if men_k_count < women_k_count:\n",
        "  print(\"У женщин таких имен больше\")\n",
        "elif men_k_count > women_k_count:\n",
        "  print(\"У мужчин таких имен больше\")\n",
        "else:\n",
        "  print(\"Таких имен поровну у мужчин и женщин\")"
      ]
    }
  ]
}