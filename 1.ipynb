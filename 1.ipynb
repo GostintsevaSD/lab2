{
  "nbformat": 4,
  "nbformat_minor": 0,
  "metadata": {
    "colab": {
      "provenance": [],
      "authorship_tag": "ABX9TyPdCnL8KF6Zo/zlnl0m4zjW"
    },
    "kernelspec": {
      "name": "python3",
      "display_name": "Python 3"
    },
    "language_info": {
      "name": "python"
    }
  },
  "cells": [
    {
      "cell_type": "code",
      "execution_count": 41,
      "metadata": {
        "colab": {
          "base_uri": "https://localhost:8080/"
        },
        "id": "Ne81hCN547j3",
        "outputId": "d80c3e3f-e219-422f-c312-528c8d11f0d6"
      },
      "outputs": [
        {
          "output_type": "stream",
          "name": "stdout",
          "text": [
            "7\n",
            "51.65\n"
          ]
        }
      ],
      "source": [
        "# Задание task_02_01.\n",
        "#\n",
        "# Выполнил: Гостинцева С.Д.\n",
        "# Группа: ЦИБ-241\n",
        "\n",
        "x = int(input())\n",
        "\n",
        "if x >= 0:\n",
        "    f = x ** 0.5 + x**2\n",
        "else:\n",
        "    f = 1 / x\n",
        "\n",
        "print(round(f,2))"
      ]
    }
  ]
}