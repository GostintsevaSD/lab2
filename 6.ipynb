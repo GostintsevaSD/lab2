{
  "nbformat": 4,
  "nbformat_minor": 0,
  "metadata": {
    "colab": {
      "provenance": [],
      "authorship_tag": "ABX9TyMsOgtm0XmALEsfIvtyMoyn"
    },
    "kernelspec": {
      "name": "python3",
      "display_name": "Python 3"
    },
    "language_info": {
      "name": "python"
    }
  },
  "cells": [
    {
      "cell_type": "code",
      "execution_count": 13,
      "metadata": {
        "colab": {
          "base_uri": "https://localhost:8080/"
        },
        "id": "Ne81hCN547j3",
        "outputId": "195fee93-bee4-4131-b617-cbb0bbf304e9"
      },
      "outputs": [
        {
          "output_type": "stream",
          "name": "stdout",
          "text": [
            "2.0\n",
            "2.0\n",
            "0\n",
            "x1 = 0.0, x2 = -1.0\n"
          ]
        }
      ],
      "source": [
        "\n",
        "# Задание task_02_06.\n",
        "#\n",
        "# Выполнил: Гостинцева С.Д.\n",
        "# Группа: ЦИБ-241\n",
        "\n",
        "\n",
        "\n",
        "a = float(input())\n",
        "b = float(input())\n",
        "c = float(input())\n",
        "\n",
        "D = b**2 - 4*a*c\n",
        "\n",
        "if D < 0:\n",
        "    print(\"Решений нет\")\n",
        "elif D == 0:\n",
        "    x = (-b) / (2*a)\n",
        "    print(f\"x = {x:.1f}\")\n",
        "else:\n",
        "    x1 = (-b + D**0.5) / (2*a)\n",
        "    x2 = (-b - D**0.5) / (2*a)\n",
        "    print(f\"x1 = {x1:.1f}, x2 = {x2:.1f}\")\n"
      ]
    },
    {
      "cell_type": "code",
      "source": [],
      "metadata": {
        "id": "UhP8wiNxJt6S"
      },
      "execution_count": 8,
      "outputs": []
    }
  ]
}