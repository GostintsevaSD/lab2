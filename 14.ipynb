{
  "nbformat": 4,
  "nbformat_minor": 0,
  "metadata": {
    "colab": {
      "provenance": [],
      "authorship_tag": "ABX9TyMBIdwrzyQlqdY2eAnxxoq8"
    },
    "kernelspec": {
      "name": "python3",
      "display_name": "Python 3"
    },
    "language_info": {
      "name": "python"
    }
  },
  "cells": [
    {
      "cell_type": "code",
      "execution_count": 22,
      "metadata": {
        "colab": {
          "base_uri": "https://localhost:8080/"
        },
        "id": "Ne81hCN547j3",
        "outputId": "ef0779dc-fb0f-491d-a51e-2a1927e5c19c"
      },
      "outputs": [
        {
          "output_type": "stream",
          "name": "stdout",
          "text": [
            "5\n",
            "10\n",
            "Пробег за 1-й день (км.) = 5.0\n",
            "На сколько увеличивает пробег (%) = 10.0\n",
            "Пробег за 2-й день: 5.5 км.\n",
            "Пробег за 3-й день: 6.1 км.\n",
            "Пробег за 4-й день: 6.7 км.\n",
            "Пробег за 5-й день: 7.3 км.\n",
            "Пробег за 6-й день: 8.1 км.\n",
            "Пробег за 7-й день: 8.9 км.\n",
            "Пробег за 8-й день: 9.7 км.\n",
            "Пробег за 9-й день: 10.7 км.\n",
            "Пробег за 10-й день: 11.8 км.\n",
            "Суммарный пробег: 79.7 км.\n"
          ]
        }
      ],
      "source": [
        "# Задание task_02_14.\n",
        "#\n",
        "# Выполнил: Фамилия И.О.\n",
        "# Группа: !!!\n",
        "\n",
        "s = float(input())\n",
        "p = float(input())\n",
        "\n",
        "total = s\n",
        "current = s\n",
        "\n",
        "print(f\"Пробег за 1-й день (км.) = {s}\")\n",
        "print(f\"На сколько увеличивает пробег (%) = {p}\")\n",
        "\n",
        "for day in range(2, 11):\n",
        "    current *= (1 + p / 100)\n",
        "    total += current\n",
        "    print(f\"Пробег за {day}-й день: {current:.1f} км.\")\n",
        "\n",
        "print(\"Суммарный пробег: {:.1f} км.\".format(total))"
      ]
    }
  ]
}