{
  "nbformat": 4,
  "nbformat_minor": 0,
  "metadata": {
    "colab": {
      "provenance": [],
      "authorship_tag": "ABX9TyNN4/YC3nXujs2wqUEwG1Nj"
    },
    "kernelspec": {
      "name": "python3",
      "display_name": "Python 3"
    },
    "language_info": {
      "name": "python"
    }
  },
  "cells": [
    {
      "cell_type": "code",
      "execution_count": null,
      "metadata": {
        "colab": {
          "base_uri": "https://localhost:8080/"
        },
        "id": "Ne81hCN547j3",
        "outputId": "70901bfe-33b7-4285-d5f7-815407f9011f"
      },
      "outputs": [
        {
          "output_type": "stream",
          "name": "stdout",
          "text": [
            "Введите первое число:\n",
            "6\n",
            "Введите второе число:\n",
            "2\n",
            "Максимум 6, минимум 2\n"
          ]
        }
      ],
      "source": [
        "# Программирование на языке высокого уровня (Python).\n",
        "# https://www.yuripetrov.ru/edu/python\n",
        "# Задание task_02_02.\n",
        "#\n",
        "# Выполнил: Гостинцева С.Д.\n",
        "# Группа: ЦИБ-241\n",
        "# E-mail: Sima20.06@bk.ru\n",
        "\n",
        "print(\"Введите первое число:\")\n",
        "a1 = int(input())\n",
        "print(\"Введите второе число:\")\n",
        "a2 = int(input())\n",
        "\n",
        "if a1>a2:\n",
        "  a_min = a2\n",
        "  a_max = a1\n",
        "else:\n",
        "  a_min = a1\n",
        "  a_max = a2\n",
        "\n",
        "print(\"Максимум {}, минимум {}\".format(a_max, a_min))"
      ]
    }
  ]
}