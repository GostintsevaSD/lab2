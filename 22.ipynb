{
  "nbformat": 4,
  "nbformat_minor": 0,
  "metadata": {
    "colab": {
      "provenance": [],
      "authorship_tag": "ABX9TyMGOnzzTAyyK1R+wdNrhuFQ"
    },
    "kernelspec": {
      "name": "python3",
      "display_name": "Python 3"
    },
    "language_info": {
      "name": "python"
    }
  },
  "cells": [
    {
      "cell_type": "code",
      "execution_count": 27,
      "metadata": {
        "colab": {
          "base_uri": "https://localhost:8080/"
        },
        "id": "Ne81hCN547j3",
        "outputId": "7c5cf5de-7f00-477c-b72e-f87b4f801674"
      },
      "outputs": [
        {
          "output_type": "stream",
          "name": "stdout",
          "text": [
            "3\n",
            "n = 3\n",
            "1-е число = 1\n",
            "2-е число = 2\n",
            "3-е число = 3\n",
            "Максимум: 3.00\n",
            "Минимум: 1.00\n"
          ]
        }
      ],
      "source": [
        "# Программирование на языке высокого уровня (Python).\n",
        "# https://www.yuripetrov.ru/edu/python\n",
        "# Задание task_02_22.\n",
        "#\n",
        "# Выполнил: Гостинцева С.Д.\n",
        "# Группа: ЦИБ-241\n",
        "\n",
        "n = int(input())\n",
        "print(f\"n = {n}\")\n",
        "\n",
        "a_max = None\n",
        "a_min = None\n",
        "\n",
        "for i in range(n):\n",
        "    num = float(input(f\"{i+1}-е число = \"))\n",
        "    if a_max is None or num > a_max:\n",
        "        a_max = num\n",
        "    if a_min is None or num < a_min:\n",
        "        a_min = num\n",
        "\n",
        "print(\"Максимум: {:.2f}\".format(a_max))\n",
        "print(\"Минимум: {:.2f}\".format(a_min))"
      ]
    }
  ]
}