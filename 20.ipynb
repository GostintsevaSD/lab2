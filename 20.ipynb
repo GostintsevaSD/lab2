{
  "nbformat": 4,
  "nbformat_minor": 0,
  "metadata": {
    "colab": {
      "provenance": [],
      "authorship_tag": "ABX9TyMVEdFaeYWctmAhTi36ikN3"
    },
    "kernelspec": {
      "name": "python3",
      "display_name": "Python 3"
    },
    "language_info": {
      "name": "python"
    }
  },
  "cells": [
    {
      "cell_type": "code",
      "execution_count": 26,
      "metadata": {
        "colab": {
          "base_uri": "https://localhost:8080/"
        },
        "id": "Ne81hCN547j3",
        "outputId": "2cd9d204-941f-4d69-90d8-d82cfd33cbb5"
      },
      "outputs": [
        {
          "output_type": "stream",
          "name": "stdout",
          "text": [
            "3\n",
            "n = 3\n",
            "102 111 120 201 210 300 "
          ]
        }
      ],
      "source": [
        "# Задание task_02_20.\n",
        "#\n",
        "# Выполнил: Гостинцева С.Д.\n",
        "# Группа: ЦИБ-241\n",
        "\n",
        "n = int(input())\n",
        "print(f\"n = {n}\")\n",
        "\n",
        "for num in range(100, 1000):\n",
        "    a = num // 100\n",
        "    b = (num // 10) % 10\n",
        "    c = num % 10\n",
        "    if a + b + c == n:\n",
        "        print(num, end=' ')"
      ]
    }
  ]
}